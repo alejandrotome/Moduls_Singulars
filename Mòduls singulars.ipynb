{
 "cells": [
  {
   "cell_type": "code",
   "execution_count": 1,
   "metadata": {},
   "outputs": [
    {
     "data": {
      "text/plain": [
       "(x, a, b, c, B, h, q, D, f)"
      ]
     },
     "execution_count": 1,
     "metadata": {},
     "output_type": "execute_result"
    }
   ],
   "source": [
    "var('x a b c B h q D f')"
   ]
  },
  {
   "cell_type": "code",
   "execution_count": null,
   "metadata": {},
   "outputs": [],
   "source": [
    "R.<x> = PolynomialRing(QQ)"
   ]
  },
  {
   "cell_type": "code",
   "execution_count": 2,
   "metadata": {},
   "outputs": [],
   "source": [
    "def efr(A):#eliminar files repetides de matrius\n",
    "    nr = A.nrows()\n",
    "    eliminate = []\n",
    "\n",
    "    for i in range (nr-1):\n",
    "        for j in range(i+1, nr):\n",
    "            if A[i] == A[j]:    eliminate.append(j)\n",
    "\n",
    "    return A.delete_rows(eliminate)"
   ]
  },
  {
   "cell_type": "code",
   "execution_count": 3,
   "metadata": {},
   "outputs": [],
   "source": [
    "def nc(D): #nombre de classe d'un determinant\n",
    "    h=1\n",
    "    b=D%2\n",
    "    B=floor(sqrt(abs(D)/3))\n",
    "    while b<=B:\n",
    "        q=(b^2-D)/4\n",
    "        a=b\n",
    "        while a<=1:\n",
    "            a=1\n",
    "            a=a+1\n",
    "            while a^2<=q:\n",
    "                if q%a==0 & (gcd(a,b)==1 or gcd(a,q/a)==1 or gcd(a,q/a)==1):\n",
    "                    if a==b or a^2==q or b==0:\n",
    "                        h=h+1\n",
    "                    else:\n",
    "                        h=h+2\n",
    "                a=a+1\n",
    "        else:\n",
    "            while a^2<=q:\n",
    "                if q%a==0 & (gcd(a,b)==1 or gcd(a,q/a)==1 or gcd(a,q/a)==1):\n",
    "                    if a==b or a^2==q or b==0:\n",
    "                        h=h+1\n",
    "                    else:\n",
    "                        h=h+2\n",
    "                a=a+1       \n",
    "        b=b+2\n",
    "    else:\n",
    "        return h   "
   ]
  },
  {
   "cell_type": "code",
   "execution_count": 5,
   "metadata": {},
   "outputs": [],
   "source": [
    "def fqr(D): #coeficients de les formes quadràtiques reduides d'un determinant, en forma de matriu\n",
    "    s=0\n",
    "    for b in [D..-D]:\n",
    "        for a in [abs(b)..sqrt(abs(D)/3)]:\n",
    "            for c in [D..-D]:\n",
    "                if D==(b^2-4*a*c):\n",
    "                    s=s+1\n",
    "    if s==nc(D):\n",
    "        fq=matrix(s,3)\n",
    "        i=0\n",
    "        for b in [D..-D]:\n",
    "            for a in [abs(b)..sqrt(abs(D)/3)]:\n",
    "                for c in [D..-D]:\n",
    "                    if D==(b^2-4*a*c):\n",
    "                        fq[i,0]=a\n",
    "                        fq[i,1]=b\n",
    "                        fq[i,2]=c\n",
    "                        i=i+1\n",
    "        return fq               \n",
    "        \n",
    "    else:    \n",
    "        fr = matrix(s, 3)\n",
    "        i=0\n",
    "        for b in [D..-D]:\n",
    "            for a in [abs(b)..sqrt(abs(D)/3)]:\n",
    "                for c in [D..-D]:\n",
    "                    if D==(b^2-4*a*c):\n",
    "                        fr[i,0]=BinaryQF([a,b,c]).reduced_form()(x,1).coefficients()[2][0]\n",
    "                        fr[i,1]=BinaryQF([a,b,c]).reduced_form()(x,1).coefficients()[1][0]\n",
    "                        fr[i,2]=BinaryQF([a,b,c]).reduced_form()(x,1).coefficients()[0][0]\n",
    "                        i=i+1\n",
    "        return efr(fr)                "
   ]
  },
  {
   "cell_type": "code",
   "execution_count": 7,
   "metadata": {},
   "outputs": [],
   "source": [
    "def tau(D): #Nombre complex de H            \n",
    "    t = zero_vector(SR, nc(D))\n",
    "    for i in [0..nc(D)-1]:\n",
    "        t[i]=(-fqr(D)[i,1]+I*sqrt(-D))/(2*fqr(D)[i,0])\n",
    "    return t   "
   ]
  },
  {
   "cell_type": "code",
   "execution_count": 9,
   "metadata": {},
   "outputs": [],
   "source": [
    "def jota(D): #Càlcul de tots els j-invariants\n",
    "    j=zero_vector(SR, nc(D))\n",
    "    for i in [0..nc(D)-1]:\n",
    "        j[i]=elliptic_j(tau(D)[i],prec=200)\n",
    "    return j            "
   ]
  }
 ],
 "metadata": {
  "kernelspec": {
   "display_name": "SageMath 9.1",
   "language": "sage",
   "name": "sagemath"
  },
  "language_info": {
   "codemirror_mode": {
    "name": "ipython",
    "version": 3
   },
   "file_extension": ".py",
   "mimetype": "text/x-python",
   "name": "python",
   "nbconvert_exporter": "python",
   "pygments_lexer": "ipython3",
   "version": "3.7.3"
  }
 },
 "nbformat": 4,
 "nbformat_minor": 2
}
